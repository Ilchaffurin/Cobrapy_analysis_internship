{
 "cells": [
  {
   "cell_type": "code",
   "execution_count": 1,
   "id": "1f12e24b",
   "metadata": {},
   "outputs": [],
   "source": [
    "import cobra\n",
    "from cobra.core import Metabolite, Reaction, Model\n",
    "from d3flux import flux_map\n",
    "import cobra.test\n",
    "import requests\n",
    "import hashlib\n",
    "import re"
   ]
  },
  {
   "cell_type": "code",
   "execution_count": 2,
   "id": "b7fcd057",
   "metadata": {},
   "outputs": [
    {
     "name": "stdout",
     "output_type": "stream",
     "text": [
      "Scaling...\n",
      " A: min|aij| =  1.000e+00  max|aij| =  1.000e+00  ratio =  1.000e+00\n",
      "Problem data seem to be well scaled\n"
     ]
    }
   ],
   "source": [
    "mitocore_mouse=cobra.io.read_sbml_model(\"Models/Mitocore_mouse.xml\")"
   ]
  },
  {
   "cell_type": "markdown",
   "id": "cbbb77e4",
   "metadata": {},
   "source": [
    "## tests des modèles de base de la souris\n",
    "##### mitocore souris\n",
    "on cherche d'ou viens la production d'ATP, de quelle voie métaoblique : "
   ]
  },
  {
   "cell_type": "code",
   "execution_count": 133,
   "id": "0619522c",
   "metadata": {},
   "outputs": [],
   "source": [
    "def get_fluxes_from_metabolite(metabolite):\n",
    "    \"\"\"\n",
    "    fonction qui a partir d'un métabolite, récupère tout les flux producteurs du métabolites, et\n",
    "    fais la somme des flux par sous système \n",
    "    \"\"\"\n",
    "    summarylines=str(metabolite.summary()).split(\"\\n\")\n",
    "    stop=0\n",
    "    i=0\n",
    "    dictflux=dict()\n",
    "    if summarylines[6]==\"Empty DataFrame\":\n",
    "        print(\"No producing reactions\")\n",
    "        return 0\n",
    "    for line in summarylines[7:] :\n",
    "        i+=1\n",
    "        if line ==\"Consuming Reactions\" :\n",
    "            stop=i-2\n",
    "    sommefluxes=0.0\n",
    "    for line in summarylines[7:7+stop] :\n",
    "        flux=float(line.split()[0].strip(\"%\"))\n",
    "        sommefluxes+=flux\n",
    "        r_id=line.split()[2]\n",
    "        subsystem=mitocore_mouse.reactions.get_by_id(r_id).notes['SUBSYSTEM']\n",
    "        if subsystem not in dictflux.keys():\n",
    "            dictflux[subsystem]=0\n",
    "        dictflux[subsystem]+=flux\n",
    "    print(dictflux)\n",
    "    return sommefluxes"
   ]
  },
  {
   "cell_type": "code",
   "execution_count": 10,
   "id": "d942d695",
   "metadata": {},
   "outputs": [
    {
     "name": "stdout",
     "output_type": "stream",
     "text": [
      "100.89230387215605\n",
      "Nombre de réactions utilisées pour maximiser la production d'ATP : 216\n"
     ]
    }
   ],
   "source": [
    "mitocore_mouse.objective=mitocore_mouse.reactions.OF_ATP_MitoCore\n",
    "solution=mitocore_mouse.optimize()\n",
    "print(solution.objective_value)\n",
    "compteur=0\n",
    "for f in solution.fluxes :\n",
    "    if f != 0 :        \n",
    "        compteur+=1\n",
    "print(\"Nombre de réactions utilisées pour maximiser la production d'ATP : \"+str(compteur))  \n"
   ]
  },
  {
   "cell_type": "code",
   "execution_count": 141,
   "id": "a9d6f0ad",
   "metadata": {},
   "outputs": [
    {
     "name": "stdout",
     "output_type": "stream",
     "text": [
      "accoa_m\n",
      "=======\n",
      "Formula: C23H34N7O17P3S\n",
      "\n",
      "Producing Reactions\n",
      "-------------------\n",
      "Percent   Flux        Reaction                                                                  Definition\n",
      "  0.06%  0.004        ACACT10m                                     2maacoa_m + coa_m --> accoa_m + ppcoa_m\n",
      " 19.93%  1.355        ACACT1rm                                             2.0 accoa_m <=> aacoa_m + coa_m\n",
      "  0.24%  0.016           HMGLm                                               hmgcoa_m --> acac_m + accoa_m\n",
      "  6.91% 0.4697 MTPC14_MitoCore 3tetd7ecoa_m + coa_m + h2o_m + nad_m <=> accoa_m + ddcacoa_m + h_m + nadh_m\n",
      "  6.91% 0.4697 MTPC16_MitoCore 3hexdcoa_m + coa_m + h2o_m + nad_m <=> accoa_m + h_m + nadh_m + tetd7ecoa_m\n",
      " 38.35%  2.608            PDHm                          coa_m + nad_m + pyr_m --> accoa_m + co2_m + nadh_m\n",
      "  6.91% 0.4697           r0287                                     HC01408_m + coa_m <=> accoa_m + btcoa_m\n",
      "  6.91% 0.4697           r0634                                      accoa_m + occoa_m <=> 3odcoa_m + coa_m\n",
      "  6.91% 0.4697           r0724                                    accoa_m + dcacoa_m <=> 3oddcoa_m + coa_m\n",
      "  6.91% 0.4697           r0732                                   HC01406_m + coa_m <=> HC01409_m + accoa_m\n",
      "\n",
      "Consuming Reactions\n",
      "-------------------\n",
      "Percent   Flux Reaction                                      Definition\n",
      "100.00% -6.801      CSm accoa_m + h2o_m + oaa_m --> cit_m + coa_m + h_m\n"
     ]
    },
    {
     "data": {
      "text/plain": [
       "\"\\n61.45% de l'acetyl coa provient du metabolisme lipidique (ACACT10m,ACACT1rm,MTPC14,MTPC16,)\\n0.24% dégradation leucine/ketogenese\\n38.35% du pyruvate (glycolyse)\\n\""
      ]
     },
     "execution_count": 141,
     "metadata": {},
     "output_type": "execute_result"
    }
   ],
   "source": [
    "print(mitocore_mouse.metabolites.accoa_m.summary())\n",
    "\"\"\"\n",
    "61.45% de l'acetyl coa provient du metabolisme lipidique (ACACT10m,ACACT1rm,MTPC14,MTPC16,)\n",
    "0.24% dégradation leucine/ketogenese\n",
    "38.35% du pyruvate (glycolyse)\n",
    "\"\"\"\n"
   ]
  },
  {
   "cell_type": "code",
   "execution_count": 140,
   "id": "e0d54959",
   "metadata": {
    "scrolled": true
   },
   "outputs": [
    {
     "name": "stdout",
     "output_type": "stream",
     "text": [
      "{'Isoleucine degradation': 0.06, 'FA and ketone body metabolism / Ketogenesis': 19.93, 'Ketogenesis / Leucine degradation': 0.24, 'FA metabolism': 41.459999999999994, 'TCA cycle': 38.35}\n"
     ]
    },
    {
     "data": {
      "text/plain": [
       "100.03999999999999"
      ]
     },
     "execution_count": 140,
     "metadata": {},
     "output_type": "execute_result"
    }
   ],
   "source": [
    "get_fluxes_from_metabolite(mitocore_mouse.metabolites.accoa_m)\n",
    "#Les 38% du TCA cycle proviennent en fait du pyruvate (pyruvate dehydrogénase est classée dans TCA cycle)"
   ]
  },
  {
   "cell_type": "code",
   "execution_count": 144,
   "id": "7cc37009",
   "metadata": {},
   "outputs": [
    {
     "name": "stdout",
     "output_type": "stream",
     "text": [
      "{'Cytosolic misc': 0.36, 'Glycolysis/gluconeogenesis': 99.64}\n"
     ]
    },
    {
     "data": {
      "text/plain": [
       "100.0"
      ]
     },
     "execution_count": 144,
     "metadata": {},
     "output_type": "execute_result"
    }
   ],
   "source": [
    "#vérification d'ou viens le pyruvate : de la glycolyse\n",
    "\n",
    "get_fluxes_from_metabolite(mitocore_mouse.metabolites.pyr_c)"
   ]
  },
  {
   "cell_type": "code",
   "execution_count": null,
   "id": "0551cece",
   "metadata": {},
   "outputs": [],
   "source": []
  },
  {
   "cell_type": "code",
   "execution_count": null,
   "id": "83b7ecdf",
   "metadata": {},
   "outputs": [],
   "source": []
  }
 ],
 "metadata": {
  "kernelspec": {
   "display_name": "Python 3 (ipykernel)",
   "language": "python",
   "name": "python3"
  },
  "language_info": {
   "codemirror_mode": {
    "name": "ipython",
    "version": 3
   },
   "file_extension": ".py",
   "mimetype": "text/x-python",
   "name": "python",
   "nbconvert_exporter": "python",
   "pygments_lexer": "ipython3",
   "version": "3.10.2"
  }
 },
 "nbformat": 4,
 "nbformat_minor": 5
}
