{
 "cells": [
  {
   "cell_type": "code",
   "execution_count": 7,
   "id": "deb2e7f5",
   "metadata": {},
   "outputs": [],
   "source": [
    "import cobra\n",
    "import cobra.test\n",
    "import escher\n",
    "from escher import Builder\n",
    "from time import sleep"
   ]
  },
  {
   "cell_type": "code",
   "execution_count": 3,
   "id": "555b4383",
   "metadata": {},
   "source": [
    "escher.rc['never_ask_before_quit'] = True"
   ]
  },
  {
   "cell_type": "code",
   "execution_count": 12,
   "id": "2ab89252",
   "metadata": {},
   "outputs": [
    {
     "name": "stdout",
     "output_type": "stream",
     "text": [
      "Downloading Map from https://escher.github.io/1-0-0/6/maps/Escherichia%20coli/e_coli_core.Core%20metabolism.json\n",
      "Downloading Model from https://escher.github.io/1-0-0/6/models/Escherichia%20coli/e_coli_core.json\n"
     ]
    }
   ],
   "source": [
    "builder = Builder(\n",
    "    map_name='e_coli_core.Core metabolism',\n",
    "    model_name='e_coli_core',\n",
    ")"
   ]
  },
  {
   "cell_type": "code",
   "execution_count": 13,
   "id": "008f2118",
   "metadata": {},
   "outputs": [
    {
     "data": {
      "application/vnd.jupyter.widget-view+json": {
       "model_id": "6ef8040e343441efbf1beb45c7da9453",
       "version_major": 2,
       "version_minor": 0
      },
      "text/plain": [
       "Builder(never_ask_before_quit=True)"
      ]
     },
     "metadata": {},
     "output_type": "display_data"
    }
   ],
   "source": [
    "builder"
   ]
  },
  {
   "cell_type": "code",
   "execution_count": 18,
   "id": "d2a3128d",
   "metadata": {},
   "outputs": [],
   "source": [
    "builder = Builder()"
   ]
  },
  {
   "cell_type": "code",
   "execution_count": 19,
   "id": "1a972865",
   "metadata": {},
   "outputs": [
    {
     "data": {
      "application/vnd.jupyter.widget-view+json": {
       "model_id": "41764923f6814d0799bed764b978d8ab",
       "version_major": 2,
       "version_minor": 0
      },
      "text/plain": [
       "Builder(never_ask_before_quit=True)"
      ]
     },
     "metadata": {},
     "output_type": "display_data"
    }
   ],
   "source": [
    "builder"
   ]
  },
  {
   "cell_type": "code",
   "execution_count": 20,
   "id": "37bec8c2",
   "metadata": {},
   "outputs": [
    {
     "name": "stdout",
     "output_type": "stream",
     "text": [
      "Downloading Map from https://escher.github.io/1-0-0/6/maps/Escherichia%20coli/iJO1366.Central%20metabolism.json\n"
     ]
    }
   ],
   "source": [
    "# Load an Escher map\n",
    "builder.map_name = 'iJO1366.Central metabolism'"
   ]
  },
  {
   "cell_type": "code",
   "execution_count": 22,
   "id": "04648992",
   "metadata": {},
   "outputs": [],
   "source": [
    "# Load a COBRA model\n",
    "builder.model_name = 'e_coli_core'\n",
    "# Find any reactions that are in the map and not in the model, and turn them red\n",
    "builder.highlight_missing = True"
   ]
  },
  {
   "cell_type": "code",
   "execution_count": 23,
   "id": "912ae05a",
   "metadata": {},
   "outputs": [
    {
     "name": "stdout",
     "output_type": "stream",
     "text": [
      "--2022-01-28 10:05:36--  http://bigg.ucsd.edu/static/models/iJO1366.json\n",
      "Resolving bigg.ucsd.edu (bigg.ucsd.edu)... 169.228.33.117\n",
      "Connecting to bigg.ucsd.edu (bigg.ucsd.edu)|169.228.33.117|:80... connected.\n",
      "HTTP request sent, awaiting response... 200 OK\n",
      "Length: 2948407 (2.8M) [application/json]\n",
      "Saving to: ‘iJO1366.json’\n",
      "\n",
      "iJO1366.json        100%[===================>]   2.81M   944KB/s    in 3.1s    \n",
      "\n",
      "2022-01-28 10:05:40 (944 KB/s) - ‘iJO1366.json’ saved [2948407/2948407]\n",
      "\n"
     ]
    }
   ],
   "source": [
    "!wget -nc http://bigg.ucsd.edu/static/models/iJO1366.json\n",
    "builder.model = cobra.io.load_json_model('iJO1366.json')"
   ]
  },
  {
   "cell_type": "code",
   "execution_count": 24,
   "id": "c49ef6a8",
   "metadata": {},
   "outputs": [],
   "source": [
    "# Run FBA with the model and add the flux data to the map\n",
    "solution = builder.model.optimize()\n",
    "builder.reaction_data = solution.fluxes\n"
   ]
  },
  {
   "cell_type": "code",
   "execution_count": 25,
   "id": "87225104",
   "metadata": {},
   "outputs": [],
   "source": [
    "# Add some data for metabolites\n",
    "builder.metabolite_data = solution.shadow_prices\n",
    "# Simplify the map by hiding some labels\n",
    "builder.hide_secondary_metabolites = True\n",
    "builder.hide_all_labels = True"
   ]
  },
  {
   "cell_type": "code",
   "execution_count": 26,
   "id": "5525bbe7",
   "metadata": {},
   "outputs": [],
   "source": [
    "builder_textbook=Builder()\n",
    "textbook_model = cobra.test.create_test_model(\"textbook\")"
   ]
  },
  {
   "cell_type": "code",
   "execution_count": 27,
   "id": "f5cf79e3",
   "metadata": {},
   "outputs": [],
   "source": []
  },
  {
   "cell_type": "code",
   "execution_count": null,
   "id": "af9421fb",
   "metadata": {},
   "outputs": [],
   "source": []
  },
  {
   "cell_type": "code",
   "execution_count": null,
   "id": "ff28c151",
   "metadata": {},
   "outputs": [],
   "source": []
  }
 ],
 "metadata": {
  "kernelspec": {
   "display_name": "Python 3 (ipykernel)",
   "language": "python",
   "name": "python3"
  },
  "language_info": {
   "codemirror_mode": {
    "name": "ipython",
    "version": 3
   },
   "file_extension": ".py",
   "mimetype": "text/x-python",
   "name": "python",
   "nbconvert_exporter": "python",
   "pygments_lexer": "ipython3",
   "version": "3.10.2"
  }
 },
 "nbformat": 4,
 "nbformat_minor": 5
}
