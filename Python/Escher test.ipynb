{
 "cells": [
  {
   "cell_type": "code",
   "execution_count": 7,
   "id": "52e00c8f",
   "metadata": {},
   "outputs": [],
   "source": [
    "import cobra\n",
    "import cobra.test\n",
    "import escher\n",
    "from escher import Builder\n",
    "from time import sleep"
   ]
  },
  {
   "cell_type": "code",
   "execution_count": 3,
   "id": "d4ded60c",
   "metadata": {},
   "outputs": [],
   "source": [
    "escher.rc['never_ask_before_quit'] = True"
   ]
  },
  {
   "cell_type": "code",
   "execution_count": 12,
   "id": "b249b35d",
   "metadata": {},
   "outputs": [
    {
     "name": "stdout",
     "output_type": "stream",
     "text": [
      "Downloading Map from https://escher.github.io/1-0-0/6/maps/Escherichia%20coli/e_coli_core.Core%20metabolism.json\n",
      "Downloading Model from https://escher.github.io/1-0-0/6/models/Escherichia%20coli/e_coli_core.json\n"
     ]
    }
   ],
   "source": [
    "builder = Builder(\n",
    "    map_name='e_coli_core.Core metabolism',\n",
    "    model_name='e_coli_core',\n",
    ")"
   ]
  },
  {
   "cell_type": "code",
   "execution_count": 13,
   "id": "e1e488ee",
   "metadata": {},
   "outputs": [
    {
     "data": {
      "application/vnd.jupyter.widget-view+json": {
       "model_id": "6ef8040e343441efbf1beb45c7da9453",
       "version_major": 2,
       "version_minor": 0
      },
      "text/plain": [
       "Builder(never_ask_before_quit=True)"
      ]
     },
     "metadata": {},
     "output_type": "display_data"
    }
   ],
   "source": [
    "builder"
   ]
  },
  {
   "cell_type": "code",
   "execution_count": 18,
   "id": "929ffeac",
   "metadata": {},
   "outputs": [],
   "source": [
    "builder = Builder()"
   ]
  },
  {
   "cell_type": "code",
   "execution_count": 19,
   "id": "d3872de2",
   "metadata": {},
   "outputs": [
    {
     "data": {
      "application/vnd.jupyter.widget-view+json": {
       "model_id": "41764923f6814d0799bed764b978d8ab",
       "version_major": 2,
       "version_minor": 0
      },
      "text/plain": [
       "Builder(never_ask_before_quit=True)"
      ]
     },
     "metadata": {},
     "output_type": "display_data"
    }
   ],
   "source": [
    "builder"
   ]
  },
  {
   "cell_type": "code",
   "execution_count": 20,
   "id": "7a2eedfd",
   "metadata": {},
   "outputs": [
    {
     "name": "stdout",
     "output_type": "stream",
     "text": [
      "Downloading Map from https://escher.github.io/1-0-0/6/maps/Escherichia%20coli/iJO1366.Central%20metabolism.json\n"
     ]
    }
   ],
   "source": [
    "# Load an Escher map\n",
    "builder.map_name = 'iJO1366.Central metabolism'"
   ]
  },
  {
   "cell_type": "code",
   "execution_count": 22,
   "id": "38399638",
   "metadata": {},
   "outputs": [],
   "source": [
    "# Load a COBRA model\n",
    "builder.model_name = 'e_coli_core'\n",
    "# Find any reactions that are in the map and not in the model, and turn them red\n",
    "builder.highlight_missing = True"
   ]
  },
  {
   "cell_type": "code",
   "execution_count": 23,
   "id": "64fb6b11",
   "metadata": {},
   "outputs": [
    {
     "name": "stdout",
     "output_type": "stream",
     "text": [
      "--2022-01-28 10:05:36--  http://bigg.ucsd.edu/static/models/iJO1366.json\n",
      "Resolving bigg.ucsd.edu (bigg.ucsd.edu)... 169.228.33.117\n",
      "Connecting to bigg.ucsd.edu (bigg.ucsd.edu)|169.228.33.117|:80... connected.\n",
      "HTTP request sent, awaiting response... 200 OK\n",
      "Length: 2948407 (2.8M) [application/json]\n",
      "Saving to: ‘iJO1366.json’\n",
      "\n",
      "iJO1366.json        100%[===================>]   2.81M   944KB/s    in 3.1s    \n",
      "\n",
      "2022-01-28 10:05:40 (944 KB/s) - ‘iJO1366.json’ saved [2948407/2948407]\n",
      "\n"
     ]
    }
   ],
   "source": [
    "!wget -nc http://bigg.ucsd.edu/static/models/iJO1366.json\n",
    "builder.model = cobra.io.load_json_model('iJO1366.json')"
   ]
  },
  {
   "cell_type": "code",
   "execution_count": 24,
   "id": "d4eb6db6",
   "metadata": {},
   "outputs": [],
   "source": [
    "# Run FBA with the model and add the flux data to the map\n",
    "solution = builder.model.optimize()\n",
    "builder.reaction_data = solution.fluxes\n"
   ]
  },
  {
   "cell_type": "code",
   "execution_count": 25,
   "id": "c14a2c17",
   "metadata": {},
   "outputs": [],
   "source": [
    "# Add some data for metabolites\n",
    "builder.metabolite_data = solution.shadow_prices\n",
    "# Simplify the map by hiding some labels\n",
    "builder.hide_secondary_metabolites = True\n",
    "builder.hide_all_labels = True"
   ]
  },
  {
   "cell_type": "code",
   "execution_count": 48,
   "id": "09b293ae",
   "metadata": {},
   "outputs": [],
   "source": [
    "builder_textbook=Builder()\n",
    "textbook_model = cobra.test.create_test_model(\"salmonella\")"
   ]
  },
  {
   "cell_type": "code",
   "execution_count": 49,
   "id": "f0171387",
   "metadata": {},
   "outputs": [],
   "source": [
    "\n",
    "builder_textbook.model=textbook_model"
   ]
  },
  {
   "cell_type": "code",
   "execution_count": 50,
   "id": "081146ae",
   "metadata": {},
   "outputs": [
    {
     "data": {
      "application/vnd.jupyter.widget-view+json": {
       "model_id": "8d33a676b8b548bbb4f2041457ed59fa",
       "version_major": 2,
       "version_minor": 0
      },
      "text/plain": [
       "Builder(never_ask_before_quit=True)"
      ]
     },
     "metadata": {},
     "output_type": "display_data"
    }
   ],
   "source": [
    "builder_textbook"
   ]
  },
  {
   "cell_type": "code",
   "execution_count": 55,
   "id": "23cae68e",
   "metadata": {},
   "outputs": [],
   "source": []
  },
  {
   "cell_type": "code",
   "execution_count": 52,
   "id": "5e55a51f",
   "metadata": {},
   "outputs": [
    {
     "data": {
      "application/vnd.jupyter.widget-view+json": {
       "model_id": "3670ffcde9f14751adf6fcb30f4c21ab",
       "version_major": 2,
       "version_minor": 0
      },
      "text/plain": [
       "Builder(never_ask_before_quit=True)"
      ]
     },
     "metadata": {},
     "output_type": "display_data"
    }
   ],
   "source": []
  }
 ],
 "metadata": {
  "kernelspec": {
   "display_name": "Python 3 (ipykernel)",
   "language": "python",
   "name": "python3"
  },
  "language_info": {
   "codemirror_mode": {
    "name": "ipython",
    "version": 3
   },
   "file_extension": ".py",
   "mimetype": "text/x-python",
   "name": "python",
   "nbconvert_exporter": "python",
   "pygments_lexer": "ipython3",
   "version": "3.10.2"
  }
 },
 "nbformat": 4,
 "nbformat_minor": 5
}
